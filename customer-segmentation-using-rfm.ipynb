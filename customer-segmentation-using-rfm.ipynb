{
 "cells": [
  {
   "cell_type": "markdown",
   "metadata": {
    "papermill": {
     "duration": 0.029721,
     "end_time": "2021-01-31T16:00:20.512981",
     "exception": false,
     "start_time": "2021-01-31T16:00:20.483260",
     "status": "completed"
    },
    "tags": []
   },
   "source": [
    "CUSTOMER SEGMENTATION USING RFM"
   ]
  },
  {
   "cell_type": "markdown",
   "metadata": {
    "papermill": {
     "duration": 0.02786,
     "end_time": "2021-01-31T16:00:20.569041",
     "exception": false,
     "start_time": "2021-01-31T16:00:20.541181",
     "status": "completed"
    },
    "tags": []
   },
   "source": [
    "Data Description\n",
    "\n",
    "InvoiceNo: Invoice number. Nominal. A 6-digit integral number uniquely assigned to each transaction. If this code starts with the letter 'c', it indicates a cancellation.\n",
    "\n",
    "StockCode: Product (item) code. Nominal. A 5-digit integral number uniquely assigned to each distinct product.\n",
    "\n",
    "Description: Product (item) name. Nominal.\n",
    "\n",
    "Quantity: The quantities of each product (item) per transaction. Numeric.\n",
    "\n",
    "InvoiceDate: Invice date and time. Numeric. The day and time when a transaction was generated.\n",
    "\n",
    "UnitPrice: Unit price. Numeric. Product price per unit in sterling (Â£).\n",
    "\n",
    "CustomerID: Customer number. Nominal. A 5-digit integral number uniquely assigned to each customer.\n",
    "\n",
    "Country: Country name. Nominal. The name of the country where a customer resides."
   ]
  },
  {
   "cell_type": "code",
   "execution_count": 1,
   "metadata": {
    "execution": {
     "iopub.execute_input": "2021-01-31T16:00:20.632469Z",
     "iopub.status.busy": "2021-01-31T16:00:20.631797Z",
     "iopub.status.idle": "2021-01-31T16:00:20.635232Z",
     "shell.execute_reply": "2021-01-31T16:00:20.635782Z"
    },
    "papermill": {
     "duration": 0.039,
     "end_time": "2021-01-31T16:00:20.635977",
     "exception": false,
     "start_time": "2021-01-31T16:00:20.596977",
     "status": "completed"
    },
    "tags": []
   },
   "outputs": [],
   "source": [
    "import warnings\n",
    "warnings.filterwarnings(\"ignore\")\n",
    "import pandas as pd\n",
    "import datetime as dt\n",
    "pd.set_option(\"display.max_columns\", 10)\n",
    "pd.set_option(\"display.float_format\", lambda x: \"%.2f\" % x)"
   ]
  },
  {
   "cell_type": "code",
   "execution_count": 2,
   "metadata": {
    "execution": {
     "iopub.execute_input": "2021-01-31T16:00:20.703843Z",
     "iopub.status.busy": "2021-01-31T16:00:20.703019Z",
     "iopub.status.idle": "2021-01-31T16:02:55.238035Z",
     "shell.execute_reply": "2021-01-31T16:02:55.237382Z"
    },
    "papermill": {
     "duration": 154.573417,
     "end_time": "2021-01-31T16:02:55.238170",
     "exception": false,
     "start_time": "2021-01-31T16:00:20.664753",
     "status": "completed"
    },
    "tags": []
   },
   "outputs": [],
   "source": [
    "df_rtl = pd.read_excel(\"../input/uci-online-retail-ii-data-set/online_retail_II.xlsx\", sheet_name=\"Year 2010-2011\")\n",
    "df = df_rtl.copy()"
   ]
  },
  {
   "cell_type": "code",
   "execution_count": 3,
   "metadata": {
    "execution": {
     "iopub.execute_input": "2021-01-31T16:02:55.318857Z",
     "iopub.status.busy": "2021-01-31T16:02:55.317888Z",
     "iopub.status.idle": "2021-01-31T16:02:55.330271Z",
     "shell.execute_reply": "2021-01-31T16:02:55.329735Z"
    },
    "papermill": {
     "duration": 0.061731,
     "end_time": "2021-01-31T16:02:55.330389",
     "exception": false,
     "start_time": "2021-01-31T16:02:55.268658",
     "status": "completed"
    },
    "tags": []
   },
   "outputs": [
    {
     "data": {
      "text/html": [
       "<div>\n",
       "<style scoped>\n",
       "    .dataframe tbody tr th:only-of-type {\n",
       "        vertical-align: middle;\n",
       "    }\n",
       "\n",
       "    .dataframe tbody tr th {\n",
       "        vertical-align: top;\n",
       "    }\n",
       "\n",
       "    .dataframe thead th {\n",
       "        text-align: right;\n",
       "    }\n",
       "</style>\n",
       "<table border=\"1\" class=\"dataframe\">\n",
       "  <thead>\n",
       "    <tr style=\"text-align: right;\">\n",
       "      <th></th>\n",
       "      <th>Invoice</th>\n",
       "      <th>StockCode</th>\n",
       "      <th>Description</th>\n",
       "      <th>Quantity</th>\n",
       "      <th>InvoiceDate</th>\n",
       "      <th>Price</th>\n",
       "      <th>Customer ID</th>\n",
       "      <th>Country</th>\n",
       "    </tr>\n",
       "  </thead>\n",
       "  <tbody>\n",
       "    <tr>\n",
       "      <th>0</th>\n",
       "      <td>536365</td>\n",
       "      <td>85123A</td>\n",
       "      <td>WHITE HANGING HEART T-LIGHT HOLDER</td>\n",
       "      <td>6</td>\n",
       "      <td>2010-12-01 08:26:00</td>\n",
       "      <td>2.55</td>\n",
       "      <td>17850.00</td>\n",
       "      <td>United Kingdom</td>\n",
       "    </tr>\n",
       "    <tr>\n",
       "      <th>1</th>\n",
       "      <td>536365</td>\n",
       "      <td>71053</td>\n",
       "      <td>WHITE METAL LANTERN</td>\n",
       "      <td>6</td>\n",
       "      <td>2010-12-01 08:26:00</td>\n",
       "      <td>3.39</td>\n",
       "      <td>17850.00</td>\n",
       "      <td>United Kingdom</td>\n",
       "    </tr>\n",
       "    <tr>\n",
       "      <th>2</th>\n",
       "      <td>536365</td>\n",
       "      <td>84406B</td>\n",
       "      <td>CREAM CUPID HEARTS COAT HANGER</td>\n",
       "      <td>8</td>\n",
       "      <td>2010-12-01 08:26:00</td>\n",
       "      <td>2.75</td>\n",
       "      <td>17850.00</td>\n",
       "      <td>United Kingdom</td>\n",
       "    </tr>\n",
       "    <tr>\n",
       "      <th>3</th>\n",
       "      <td>536365</td>\n",
       "      <td>84029G</td>\n",
       "      <td>KNITTED UNION FLAG HOT WATER BOTTLE</td>\n",
       "      <td>6</td>\n",
       "      <td>2010-12-01 08:26:00</td>\n",
       "      <td>3.39</td>\n",
       "      <td>17850.00</td>\n",
       "      <td>United Kingdom</td>\n",
       "    </tr>\n",
       "    <tr>\n",
       "      <th>4</th>\n",
       "      <td>536365</td>\n",
       "      <td>84029E</td>\n",
       "      <td>RED WOOLLY HOTTIE WHITE HEART.</td>\n",
       "      <td>6</td>\n",
       "      <td>2010-12-01 08:26:00</td>\n",
       "      <td>3.39</td>\n",
       "      <td>17850.00</td>\n",
       "      <td>United Kingdom</td>\n",
       "    </tr>\n",
       "  </tbody>\n",
       "</table>\n",
       "</div>"
      ],
      "text/plain": [
       "  Invoice StockCode                          Description  Quantity  \\\n",
       "0  536365    85123A   WHITE HANGING HEART T-LIGHT HOLDER         6   \n",
       "1  536365     71053                  WHITE METAL LANTERN         6   \n",
       "2  536365    84406B       CREAM CUPID HEARTS COAT HANGER         8   \n",
       "3  536365    84029G  KNITTED UNION FLAG HOT WATER BOTTLE         6   \n",
       "4  536365    84029E       RED WOOLLY HOTTIE WHITE HEART.         6   \n",
       "\n",
       "          InvoiceDate  Price  Customer ID         Country  \n",
       "0 2010-12-01 08:26:00   2.55     17850.00  United Kingdom  \n",
       "1 2010-12-01 08:26:00   3.39     17850.00  United Kingdom  \n",
       "2 2010-12-01 08:26:00   2.75     17850.00  United Kingdom  \n",
       "3 2010-12-01 08:26:00   3.39     17850.00  United Kingdom  \n",
       "4 2010-12-01 08:26:00   3.39     17850.00  United Kingdom  "
      ]
     },
     "execution_count": 3,
     "metadata": {},
     "output_type": "execute_result"
    }
   ],
   "source": [
    "df.head()"
   ]
  },
  {
   "cell_type": "code",
   "execution_count": 4,
   "metadata": {
    "execution": {
     "iopub.execute_input": "2021-01-31T16:02:55.442646Z",
     "iopub.status.busy": "2021-01-31T16:02:55.441584Z",
     "iopub.status.idle": "2021-01-31T16:02:55.446880Z",
     "shell.execute_reply": "2021-01-31T16:02:55.446374Z"
    },
    "papermill": {
     "duration": 0.087173,
     "end_time": "2021-01-31T16:02:55.446994",
     "exception": false,
     "start_time": "2021-01-31T16:02:55.359821",
     "status": "completed"
    },
    "tags": []
   },
   "outputs": [
    {
     "data": {
      "text/plain": [
       "4223"
      ]
     },
     "execution_count": 4,
     "metadata": {},
     "output_type": "execute_result"
    }
   ],
   "source": [
    "# Number of unique products\n",
    "df[\"Description\"].nunique()"
   ]
  },
  {
   "cell_type": "code",
   "execution_count": 5,
   "metadata": {
    "execution": {
     "iopub.execute_input": "2021-01-31T16:02:55.637710Z",
     "iopub.status.busy": "2021-01-31T16:02:55.636649Z",
     "iopub.status.idle": "2021-01-31T16:02:55.645733Z",
     "shell.execute_reply": "2021-01-31T16:02:55.645061Z"
    },
    "papermill": {
     "duration": 0.169443,
     "end_time": "2021-01-31T16:02:55.645847",
     "exception": false,
     "start_time": "2021-01-31T16:02:55.476404",
     "status": "completed"
    },
    "tags": []
   },
   "outputs": [
    {
     "data": {
      "text/plain": [
       "WHITE HANGING HEART T-LIGHT HOLDER    2369\n",
       "REGENCY CAKESTAND 3 TIER              2200\n",
       "JUMBO BAG RED RETROSPOT               2159\n",
       "PARTY BUNTING                         1727\n",
       "LUNCH BAG RED RETROSPOT               1638\n",
       "Name: Description, dtype: int64"
      ]
     },
     "execution_count": 5,
     "metadata": {},
     "output_type": "execute_result"
    }
   ],
   "source": [
    "#  Number of each product:\n",
    "df[\"Description\"].value_counts().head()"
   ]
  },
  {
   "cell_type": "code",
   "execution_count": 6,
   "metadata": {
    "execution": {
     "iopub.execute_input": "2021-01-31T16:02:55.715487Z",
     "iopub.status.busy": "2021-01-31T16:02:55.714497Z",
     "iopub.status.idle": "2021-01-31T16:02:55.893018Z",
     "shell.execute_reply": "2021-01-31T16:02:55.892369Z"
    },
    "papermill": {
     "duration": 0.216552,
     "end_time": "2021-01-31T16:02:55.893129",
     "exception": false,
     "start_time": "2021-01-31T16:02:55.676577",
     "status": "completed"
    },
    "tags": []
   },
   "outputs": [
    {
     "data": {
      "text/html": [
       "<div>\n",
       "<style scoped>\n",
       "    .dataframe tbody tr th:only-of-type {\n",
       "        vertical-align: middle;\n",
       "    }\n",
       "\n",
       "    .dataframe tbody tr th {\n",
       "        vertical-align: top;\n",
       "    }\n",
       "\n",
       "    .dataframe thead th {\n",
       "        text-align: right;\n",
       "    }\n",
       "</style>\n",
       "<table border=\"1\" class=\"dataframe\">\n",
       "  <thead>\n",
       "    <tr style=\"text-align: right;\">\n",
       "      <th></th>\n",
       "      <th>Quantity</th>\n",
       "    </tr>\n",
       "    <tr>\n",
       "      <th>Description</th>\n",
       "      <th></th>\n",
       "    </tr>\n",
       "  </thead>\n",
       "  <tbody>\n",
       "    <tr>\n",
       "      <th>WORLD WAR 2 GLIDERS ASSTD DESIGNS</th>\n",
       "      <td>53847</td>\n",
       "    </tr>\n",
       "    <tr>\n",
       "      <th>JUMBO BAG RED RETROSPOT</th>\n",
       "      <td>47363</td>\n",
       "    </tr>\n",
       "    <tr>\n",
       "      <th>ASSORTED COLOUR BIRD ORNAMENT</th>\n",
       "      <td>36381</td>\n",
       "    </tr>\n",
       "    <tr>\n",
       "      <th>POPCORN HOLDER</th>\n",
       "      <td>36334</td>\n",
       "    </tr>\n",
       "    <tr>\n",
       "      <th>PACK OF 72 RETROSPOT CAKE CASES</th>\n",
       "      <td>36039</td>\n",
       "    </tr>\n",
       "    <tr>\n",
       "      <th>...</th>\n",
       "      <td>...</td>\n",
       "    </tr>\n",
       "    <tr>\n",
       "      <th>Damaged</th>\n",
       "      <td>-7540</td>\n",
       "    </tr>\n",
       "    <tr>\n",
       "      <th>Printing smudges/thrown away</th>\n",
       "      <td>-9058</td>\n",
       "    </tr>\n",
       "    <tr>\n",
       "      <th>check</th>\n",
       "      <td>-12030</td>\n",
       "    </tr>\n",
       "    <tr>\n",
       "      <th>Unsaleable, destroyed.</th>\n",
       "      <td>-15644</td>\n",
       "    </tr>\n",
       "    <tr>\n",
       "      <th>printing smudges/thrown away</th>\n",
       "      <td>-19200</td>\n",
       "    </tr>\n",
       "  </tbody>\n",
       "</table>\n",
       "<p>4223 rows × 1 columns</p>\n",
       "</div>"
      ],
      "text/plain": [
       "                                   Quantity\n",
       "Description                                \n",
       "WORLD WAR 2 GLIDERS ASSTD DESIGNS     53847\n",
       "JUMBO BAG RED RETROSPOT               47363\n",
       "ASSORTED COLOUR BIRD ORNAMENT         36381\n",
       "POPCORN HOLDER                        36334\n",
       "PACK OF 72 RETROSPOT CAKE CASES       36039\n",
       "...                                     ...\n",
       "Damaged                               -7540\n",
       "Printing smudges/thrown away          -9058\n",
       "check                                -12030\n",
       "Unsaleable, destroyed.               -15644\n",
       "printing smudges/thrown away         -19200\n",
       "\n",
       "[4223 rows x 1 columns]"
      ]
     },
     "execution_count": 6,
     "metadata": {},
     "output_type": "execute_result"
    }
   ],
   "source": [
    "# Quantity of each product sold:\n",
    "df.groupby(\"Description\").agg({\"Quantity\": \"sum\"})\n",
    "df.groupby(\"Description\").agg({\"Quantity\": \"sum\"}).sort_values(\"Quantity\", ascending=False)"
   ]
  },
  {
   "cell_type": "markdown",
   "metadata": {
    "papermill": {
     "duration": 0.030841,
     "end_time": "2021-01-31T16:02:55.955875",
     "exception": false,
     "start_time": "2021-01-31T16:02:55.925034",
     "status": "completed"
    },
    "tags": []
   },
   "source": [
    "Products seen as minus are the ones who are returned. We have to eliminate the returned products by invoice."
   ]
  },
  {
   "cell_type": "code",
   "execution_count": 7,
   "metadata": {
    "execution": {
     "iopub.execute_input": "2021-01-31T16:02:56.064828Z",
     "iopub.status.busy": "2021-01-31T16:02:56.063814Z",
     "iopub.status.idle": "2021-01-31T16:02:56.069439Z",
     "shell.execute_reply": "2021-01-31T16:02:56.068588Z"
    },
    "papermill": {
     "duration": 0.082438,
     "end_time": "2021-01-31T16:02:56.069577",
     "exception": false,
     "start_time": "2021-01-31T16:02:55.987139",
     "status": "completed"
    },
    "tags": []
   },
   "outputs": [
    {
     "data": {
      "text/plain": [
       "25900"
      ]
     },
     "execution_count": 7,
     "metadata": {},
     "output_type": "execute_result"
    }
   ],
   "source": [
    "# Invoice number:\n",
    "df[\"Invoice\"].nunique()"
   ]
  },
  {
   "cell_type": "markdown",
   "metadata": {
    "papermill": {
     "duration": 0.03177,
     "end_time": "2021-01-31T16:02:56.132998",
     "exception": false,
     "start_time": "2021-01-31T16:02:56.101228",
     "status": "completed"
    },
    "tags": []
   },
   "source": [
    "DATA PREPARATION"
   ]
  },
  {
   "cell_type": "code",
   "execution_count": 8,
   "metadata": {
    "execution": {
     "iopub.execute_input": "2021-01-31T16:02:56.325318Z",
     "iopub.status.busy": "2021-01-31T16:02:56.267956Z",
     "iopub.status.idle": "2021-01-31T16:02:56.333587Z",
     "shell.execute_reply": "2021-01-31T16:02:56.332919Z"
    },
    "papermill": {
     "duration": 0.169373,
     "end_time": "2021-01-31T16:02:56.333715",
     "exception": false,
     "start_time": "2021-01-31T16:02:56.164342",
     "status": "completed"
    },
    "tags": []
   },
   "outputs": [
    {
     "data": {
      "text/plain": [
       "United Kingdom          495478\n",
       "Germany                   9495\n",
       "France                    8558\n",
       "EIRE                      8196\n",
       "Spain                     2533\n",
       "Netherlands               2371\n",
       "Belgium                   2069\n",
       "Switzerland               2002\n",
       "Portugal                  1519\n",
       "Australia                 1259\n",
       "Norway                    1086\n",
       "Italy                      803\n",
       "Channel Islands            758\n",
       "Finland                    695\n",
       "Cyprus                     622\n",
       "Sweden                     462\n",
       "Unspecified                446\n",
       "Austria                    401\n",
       "Denmark                    389\n",
       "Japan                      358\n",
       "Poland                     341\n",
       "Israel                     297\n",
       "USA                        291\n",
       "Hong Kong                  288\n",
       "Singapore                  229\n",
       "Iceland                    182\n",
       "Canada                     151\n",
       "Greece                     146\n",
       "Malta                      127\n",
       "United Arab Emirates        68\n",
       "European Community          61\n",
       "RSA                         58\n",
       "Lebanon                     45\n",
       "Lithuania                   35\n",
       "Brazil                      32\n",
       "Czech Republic              30\n",
       "Bahrain                     19\n",
       "Saudi Arabia                10\n",
       "Name: Country, dtype: int64"
      ]
     },
     "execution_count": 8,
     "metadata": {},
     "output_type": "execute_result"
    }
   ],
   "source": [
    "# Taking only UK customers since they consitute the bigger part of the data\n",
    "df[\"Country\"].value_counts()"
   ]
  },
  {
   "cell_type": "code",
   "execution_count": 9,
   "metadata": {
    "execution": {
     "iopub.execute_input": "2021-01-31T16:02:56.489562Z",
     "iopub.status.busy": "2021-01-31T16:02:56.488842Z",
     "iopub.status.idle": "2021-01-31T16:02:56.543339Z",
     "shell.execute_reply": "2021-01-31T16:02:56.542650Z"
    },
    "papermill": {
     "duration": 0.177813,
     "end_time": "2021-01-31T16:02:56.543454",
     "exception": false,
     "start_time": "2021-01-31T16:02:56.365641",
     "status": "completed"
    },
    "tags": []
   },
   "outputs": [
    {
     "data": {
      "text/plain": [
       "(495478, 8)"
      ]
     },
     "execution_count": 9,
     "metadata": {},
     "output_type": "execute_result"
    }
   ],
   "source": [
    "df = df[df[\"Country\"] == \"United Kingdom\"]\n",
    "df.shape\n",
    "# we have now only the Unitem Kingdom Customers"
   ]
  },
  {
   "cell_type": "code",
   "execution_count": 10,
   "metadata": {
    "execution": {
     "iopub.execute_input": "2021-01-31T16:02:56.669527Z",
     "iopub.status.busy": "2021-01-31T16:02:56.668529Z",
     "iopub.status.idle": "2021-01-31T16:02:57.531419Z",
     "shell.execute_reply": "2021-01-31T16:02:57.530797Z"
    },
    "papermill": {
     "duration": 0.955512,
     "end_time": "2021-01-31T16:02:57.531532",
     "exception": false,
     "start_time": "2021-01-31T16:02:56.576020",
     "status": "completed"
    },
    "tags": []
   },
   "outputs": [
    {
     "data": {
      "text/plain": [
       "(487622, 8)"
      ]
     },
     "execution_count": 10,
     "metadata": {},
     "output_type": "execute_result"
    }
   ],
   "source": [
    "# We get rid of returned invoices\n",
    "df = df[~(df[\"Invoice\"].str.contains(\"C\", na=False))]\n",
    "df.shape"
   ]
  },
  {
   "cell_type": "code",
   "execution_count": 11,
   "metadata": {
    "execution": {
     "iopub.execute_input": "2021-01-31T16:02:57.603787Z",
     "iopub.status.busy": "2021-01-31T16:02:57.602744Z",
     "iopub.status.idle": "2021-01-31T16:02:57.888686Z",
     "shell.execute_reply": "2021-01-31T16:02:57.887945Z"
    },
    "papermill": {
     "duration": 0.324365,
     "end_time": "2021-01-31T16:02:57.888803",
     "exception": false,
     "start_time": "2021-01-31T16:02:57.564438",
     "status": "completed"
    },
    "tags": []
   },
   "outputs": [
    {
     "data": {
      "text/plain": [
       "(354345, 8)"
      ]
     },
     "execution_count": 11,
     "metadata": {},
     "output_type": "execute_result"
    }
   ],
   "source": [
    "# We get rid of null values \n",
    "df.dropna(inplace=True)\n",
    "df.shape"
   ]
  },
  {
   "cell_type": "code",
   "execution_count": 12,
   "metadata": {
    "execution": {
     "iopub.execute_input": "2021-01-31T16:02:57.963028Z",
     "iopub.status.busy": "2021-01-31T16:02:57.962209Z",
     "iopub.status.idle": "2021-01-31T16:02:57.980201Z",
     "shell.execute_reply": "2021-01-31T16:02:57.979657Z"
    },
    "papermill": {
     "duration": 0.058312,
     "end_time": "2021-01-31T16:02:57.980321",
     "exception": false,
     "start_time": "2021-01-31T16:02:57.922009",
     "status": "completed"
    },
    "tags": []
   },
   "outputs": [
    {
     "data": {
      "text/html": [
       "<div>\n",
       "<style scoped>\n",
       "    .dataframe tbody tr th:only-of-type {\n",
       "        vertical-align: middle;\n",
       "    }\n",
       "\n",
       "    .dataframe tbody tr th {\n",
       "        vertical-align: top;\n",
       "    }\n",
       "\n",
       "    .dataframe thead th {\n",
       "        text-align: right;\n",
       "    }\n",
       "</style>\n",
       "<table border=\"1\" class=\"dataframe\">\n",
       "  <thead>\n",
       "    <tr style=\"text-align: right;\">\n",
       "      <th></th>\n",
       "      <th>Invoice</th>\n",
       "      <th>StockCode</th>\n",
       "      <th>Description</th>\n",
       "      <th>Quantity</th>\n",
       "      <th>InvoiceDate</th>\n",
       "      <th>Price</th>\n",
       "      <th>Customer ID</th>\n",
       "      <th>Country</th>\n",
       "      <th>TotalPrice</th>\n",
       "    </tr>\n",
       "  </thead>\n",
       "  <tbody>\n",
       "    <tr>\n",
       "      <th>0</th>\n",
       "      <td>536365</td>\n",
       "      <td>85123A</td>\n",
       "      <td>WHITE HANGING HEART T-LIGHT HOLDER</td>\n",
       "      <td>6</td>\n",
       "      <td>2010-12-01 08:26:00</td>\n",
       "      <td>2.55</td>\n",
       "      <td>17850.00</td>\n",
       "      <td>United Kingdom</td>\n",
       "      <td>15.30</td>\n",
       "    </tr>\n",
       "    <tr>\n",
       "      <th>1</th>\n",
       "      <td>536365</td>\n",
       "      <td>71053</td>\n",
       "      <td>WHITE METAL LANTERN</td>\n",
       "      <td>6</td>\n",
       "      <td>2010-12-01 08:26:00</td>\n",
       "      <td>3.39</td>\n",
       "      <td>17850.00</td>\n",
       "      <td>United Kingdom</td>\n",
       "      <td>20.34</td>\n",
       "    </tr>\n",
       "    <tr>\n",
       "      <th>2</th>\n",
       "      <td>536365</td>\n",
       "      <td>84406B</td>\n",
       "      <td>CREAM CUPID HEARTS COAT HANGER</td>\n",
       "      <td>8</td>\n",
       "      <td>2010-12-01 08:26:00</td>\n",
       "      <td>2.75</td>\n",
       "      <td>17850.00</td>\n",
       "      <td>United Kingdom</td>\n",
       "      <td>22.00</td>\n",
       "    </tr>\n",
       "    <tr>\n",
       "      <th>3</th>\n",
       "      <td>536365</td>\n",
       "      <td>84029G</td>\n",
       "      <td>KNITTED UNION FLAG HOT WATER BOTTLE</td>\n",
       "      <td>6</td>\n",
       "      <td>2010-12-01 08:26:00</td>\n",
       "      <td>3.39</td>\n",
       "      <td>17850.00</td>\n",
       "      <td>United Kingdom</td>\n",
       "      <td>20.34</td>\n",
       "    </tr>\n",
       "    <tr>\n",
       "      <th>4</th>\n",
       "      <td>536365</td>\n",
       "      <td>84029E</td>\n",
       "      <td>RED WOOLLY HOTTIE WHITE HEART.</td>\n",
       "      <td>6</td>\n",
       "      <td>2010-12-01 08:26:00</td>\n",
       "      <td>3.39</td>\n",
       "      <td>17850.00</td>\n",
       "      <td>United Kingdom</td>\n",
       "      <td>20.34</td>\n",
       "    </tr>\n",
       "  </tbody>\n",
       "</table>\n",
       "</div>"
      ],
      "text/plain": [
       "  Invoice StockCode                          Description  Quantity  \\\n",
       "0  536365    85123A   WHITE HANGING HEART T-LIGHT HOLDER         6   \n",
       "1  536365     71053                  WHITE METAL LANTERN         6   \n",
       "2  536365    84406B       CREAM CUPID HEARTS COAT HANGER         8   \n",
       "3  536365    84029G  KNITTED UNION FLAG HOT WATER BOTTLE         6   \n",
       "4  536365    84029E       RED WOOLLY HOTTIE WHITE HEART.         6   \n",
       "\n",
       "          InvoiceDate  Price  Customer ID         Country  TotalPrice  \n",
       "0 2010-12-01 08:26:00   2.55     17850.00  United Kingdom       15.30  \n",
       "1 2010-12-01 08:26:00   3.39     17850.00  United Kingdom       20.34  \n",
       "2 2010-12-01 08:26:00   2.75     17850.00  United Kingdom       22.00  \n",
       "3 2010-12-01 08:26:00   3.39     17850.00  United Kingdom       20.34  \n",
       "4 2010-12-01 08:26:00   3.39     17850.00  United Kingdom       20.34  "
      ]
     },
     "execution_count": 12,
     "metadata": {},
     "output_type": "execute_result"
    }
   ],
   "source": [
    "# We add Total Price column to calculate the total earning for the firm\n",
    "df[\"TotalPrice\"] = df[\"Price\"] * df[\"Quantity\"]\n",
    "df.head()"
   ]
  },
  {
   "cell_type": "code",
   "execution_count": 13,
   "metadata": {
    "execution": {
     "iopub.execute_input": "2021-01-31T16:02:58.057173Z",
     "iopub.status.busy": "2021-01-31T16:02:58.056478Z",
     "iopub.status.idle": "2021-01-31T16:02:58.144778Z",
     "shell.execute_reply": "2021-01-31T16:02:58.144196Z"
    },
    "papermill": {
     "duration": 0.129742,
     "end_time": "2021-01-31T16:02:58.144900",
     "exception": false,
     "start_time": "2021-01-31T16:02:58.015158",
     "status": "completed"
    },
    "tags": []
   },
   "outputs": [
    {
     "data": {
      "text/html": [
       "<div>\n",
       "<style scoped>\n",
       "    .dataframe tbody tr th:only-of-type {\n",
       "        vertical-align: middle;\n",
       "    }\n",
       "\n",
       "    .dataframe tbody tr th {\n",
       "        vertical-align: top;\n",
       "    }\n",
       "\n",
       "    .dataframe thead th {\n",
       "        text-align: right;\n",
       "    }\n",
       "</style>\n",
       "<table border=\"1\" class=\"dataframe\">\n",
       "  <thead>\n",
       "    <tr style=\"text-align: right;\">\n",
       "      <th></th>\n",
       "      <th>count</th>\n",
       "      <th>mean</th>\n",
       "      <th>std</th>\n",
       "      <th>min</th>\n",
       "      <th>1%</th>\n",
       "      <th>...</th>\n",
       "      <th>50%</th>\n",
       "      <th>75%</th>\n",
       "      <th>90%</th>\n",
       "      <th>99%</th>\n",
       "      <th>max</th>\n",
       "    </tr>\n",
       "  </thead>\n",
       "  <tbody>\n",
       "    <tr>\n",
       "      <th>Quantity</th>\n",
       "      <td>354345.00</td>\n",
       "      <td>12.05</td>\n",
       "      <td>190.43</td>\n",
       "      <td>1.00</td>\n",
       "      <td>1.00</td>\n",
       "      <td>...</td>\n",
       "      <td>4.00</td>\n",
       "      <td>12.00</td>\n",
       "      <td>24.00</td>\n",
       "      <td>100.00</td>\n",
       "      <td>80995.00</td>\n",
       "    </tr>\n",
       "    <tr>\n",
       "      <th>Price</th>\n",
       "      <td>354345.00</td>\n",
       "      <td>2.96</td>\n",
       "      <td>17.86</td>\n",
       "      <td>0.00</td>\n",
       "      <td>0.21</td>\n",
       "      <td>...</td>\n",
       "      <td>1.95</td>\n",
       "      <td>3.75</td>\n",
       "      <td>5.95</td>\n",
       "      <td>12.75</td>\n",
       "      <td>8142.75</td>\n",
       "    </tr>\n",
       "    <tr>\n",
       "      <th>Customer ID</th>\n",
       "      <td>354345.00</td>\n",
       "      <td>15552.44</td>\n",
       "      <td>1594.55</td>\n",
       "      <td>12346.00</td>\n",
       "      <td>12748.00</td>\n",
       "      <td>...</td>\n",
       "      <td>15522.00</td>\n",
       "      <td>16931.00</td>\n",
       "      <td>17774.00</td>\n",
       "      <td>18223.00</td>\n",
       "      <td>18287.00</td>\n",
       "    </tr>\n",
       "    <tr>\n",
       "      <th>TotalPrice</th>\n",
       "      <td>354345.00</td>\n",
       "      <td>20.63</td>\n",
       "      <td>326.03</td>\n",
       "      <td>0.00</td>\n",
       "      <td>0.55</td>\n",
       "      <td>...</td>\n",
       "      <td>10.20</td>\n",
       "      <td>17.70</td>\n",
       "      <td>32.70</td>\n",
       "      <td>179.00</td>\n",
       "      <td>168469.60</td>\n",
       "    </tr>\n",
       "  </tbody>\n",
       "</table>\n",
       "<p>4 rows × 12 columns</p>\n",
       "</div>"
      ],
      "text/plain": [
       "                count     mean     std      min       1%  ...      50%  \\\n",
       "Quantity    354345.00    12.05  190.43     1.00     1.00  ...     4.00   \n",
       "Price       354345.00     2.96   17.86     0.00     0.21  ...     1.95   \n",
       "Customer ID 354345.00 15552.44 1594.55 12346.00 12748.00  ... 15522.00   \n",
       "TotalPrice  354345.00    20.63  326.03     0.00     0.55  ...    10.20   \n",
       "\n",
       "                 75%      90%      99%       max  \n",
       "Quantity       12.00    24.00   100.00  80995.00  \n",
       "Price           3.75     5.95    12.75   8142.75  \n",
       "Customer ID 16931.00 17774.00 18223.00  18287.00  \n",
       "TotalPrice     17.70    32.70   179.00 168469.60  \n",
       "\n",
       "[4 rows x 12 columns]"
      ]
     },
     "execution_count": 13,
     "metadata": {},
     "output_type": "execute_result"
    }
   ],
   "source": [
    "# Describe the data - looking for anormalities\n",
    "# df.describe().T\n",
    "df.describe([0.01, 0.10, 0.25, 0.50, 0.75, 0.90, 0.99]).T"
   ]
  },
  {
   "cell_type": "code",
   "execution_count": 14,
   "metadata": {
    "execution": {
     "iopub.execute_input": "2021-01-31T16:02:58.219289Z",
     "iopub.status.busy": "2021-01-31T16:02:58.218640Z",
     "iopub.status.idle": "2021-01-31T16:02:58.221313Z",
     "shell.execute_reply": "2021-01-31T16:02:58.221840Z"
    },
    "papermill": {
     "duration": 0.042113,
     "end_time": "2021-01-31T16:02:58.222004",
     "exception": false,
     "start_time": "2021-01-31T16:02:58.179891",
     "status": "completed"
    },
    "tags": []
   },
   "outputs": [],
   "source": [
    "# We can see that there are outliers in the price column for example since the mean \n",
    "# is around 3 and the 99th percent of the data is 12.75. "
   ]
  },
  {
   "cell_type": "markdown",
   "metadata": {
    "papermill": {
     "duration": 0.039376,
     "end_time": "2021-01-31T16:02:58.296224",
     "exception": false,
     "start_time": "2021-01-31T16:02:58.256848",
     "status": "completed"
    },
    "tags": []
   },
   "source": [
    "CALCULATING RFM METRICS\n"
   ]
  },
  {
   "cell_type": "code",
   "execution_count": 15,
   "metadata": {
    "execution": {
     "iopub.execute_input": "2021-01-31T16:02:58.380045Z",
     "iopub.status.busy": "2021-01-31T16:02:58.379228Z",
     "iopub.status.idle": "2021-01-31T16:02:58.382432Z",
     "shell.execute_reply": "2021-01-31T16:02:58.382952Z"
    },
    "papermill": {
     "duration": 0.047303,
     "end_time": "2021-01-31T16:02:58.383099",
     "exception": false,
     "start_time": "2021-01-31T16:02:58.335796",
     "status": "completed"
    },
    "tags": []
   },
   "outputs": [],
   "source": [
    "# Recency: time passed since the \"last contact\" of the customer\n",
    "# = Today's date - Last purchase date"
   ]
  },
  {
   "cell_type": "code",
   "execution_count": 16,
   "metadata": {
    "execution": {
     "iopub.execute_input": "2021-01-31T16:02:58.459233Z",
     "iopub.status.busy": "2021-01-31T16:02:58.458520Z",
     "iopub.status.idle": "2021-01-31T16:02:58.465030Z",
     "shell.execute_reply": "2021-01-31T16:02:58.464366Z"
    },
    "papermill": {
     "duration": 0.046418,
     "end_time": "2021-01-31T16:02:58.465141",
     "exception": false,
     "start_time": "2021-01-31T16:02:58.418723",
     "status": "completed"
    },
    "tags": []
   },
   "outputs": [
    {
     "data": {
      "text/plain": [
       "Timestamp('2011-12-09 12:49:00')"
      ]
     },
     "execution_count": 16,
     "metadata": {},
     "output_type": "execute_result"
    }
   ],
   "source": [
    "# Lets look at maximum date on data\n",
    "df[\"InvoiceDate\"].max()"
   ]
  },
  {
   "cell_type": "code",
   "execution_count": 17,
   "metadata": {
    "execution": {
     "iopub.execute_input": "2021-01-31T16:02:58.543078Z",
     "iopub.status.busy": "2021-01-31T16:02:58.542394Z",
     "iopub.status.idle": "2021-01-31T16:02:58.545403Z",
     "shell.execute_reply": "2021-01-31T16:02:58.545927Z"
    },
    "papermill": {
     "duration": 0.044963,
     "end_time": "2021-01-31T16:02:58.546070",
     "exception": false,
     "start_time": "2021-01-31T16:02:58.501107",
     "status": "completed"
    },
    "tags": []
   },
   "outputs": [],
   "source": [
    "# To avoid recency value to become \"0\" we add 1 or 2 to today's date\n",
    "today_date = dt.datetime(2011, 12, 11)"
   ]
  },
  {
   "cell_type": "code",
   "execution_count": 18,
   "metadata": {
    "execution": {
     "iopub.execute_input": "2021-01-31T16:02:58.622359Z",
     "iopub.status.busy": "2021-01-31T16:02:58.621503Z",
     "iopub.status.idle": "2021-01-31T16:02:58.625974Z",
     "shell.execute_reply": "2021-01-31T16:02:58.625352Z"
    },
    "papermill": {
     "duration": 0.044278,
     "end_time": "2021-01-31T16:02:58.626089",
     "exception": false,
     "start_time": "2021-01-31T16:02:58.581811",
     "status": "completed"
    },
    "tags": []
   },
   "outputs": [],
   "source": [
    "# Creating RFM"
   ]
  },
  {
   "cell_type": "code",
   "execution_count": 19,
   "metadata": {
    "execution": {
     "iopub.execute_input": "2021-01-31T16:02:58.706930Z",
     "iopub.status.busy": "2021-01-31T16:02:58.706204Z",
     "iopub.status.idle": "2021-01-31T16:02:59.587340Z",
     "shell.execute_reply": "2021-01-31T16:02:59.586811Z"
    },
    "papermill": {
     "duration": 0.925209,
     "end_time": "2021-01-31T16:02:59.587461",
     "exception": false,
     "start_time": "2021-01-31T16:02:58.662252",
     "status": "completed"
    },
    "tags": []
   },
   "outputs": [
    {
     "data": {
      "text/html": [
       "<div>\n",
       "<style scoped>\n",
       "    .dataframe tbody tr th:only-of-type {\n",
       "        vertical-align: middle;\n",
       "    }\n",
       "\n",
       "    .dataframe tbody tr th {\n",
       "        vertical-align: top;\n",
       "    }\n",
       "\n",
       "    .dataframe thead th {\n",
       "        text-align: right;\n",
       "    }\n",
       "</style>\n",
       "<table border=\"1\" class=\"dataframe\">\n",
       "  <thead>\n",
       "    <tr style=\"text-align: right;\">\n",
       "      <th></th>\n",
       "      <th>InvoiceDate</th>\n",
       "      <th>Invoice</th>\n",
       "      <th>TotalPrice</th>\n",
       "    </tr>\n",
       "    <tr>\n",
       "      <th>Customer ID</th>\n",
       "      <th></th>\n",
       "      <th></th>\n",
       "      <th></th>\n",
       "    </tr>\n",
       "  </thead>\n",
       "  <tbody>\n",
       "    <tr>\n",
       "      <th>12346.00</th>\n",
       "      <td>326</td>\n",
       "      <td>1</td>\n",
       "      <td>77183.60</td>\n",
       "    </tr>\n",
       "    <tr>\n",
       "      <th>12747.00</th>\n",
       "      <td>3</td>\n",
       "      <td>103</td>\n",
       "      <td>4196.01</td>\n",
       "    </tr>\n",
       "    <tr>\n",
       "      <th>12748.00</th>\n",
       "      <td>1</td>\n",
       "      <td>4596</td>\n",
       "      <td>33719.73</td>\n",
       "    </tr>\n",
       "    <tr>\n",
       "      <th>12749.00</th>\n",
       "      <td>4</td>\n",
       "      <td>199</td>\n",
       "      <td>4090.88</td>\n",
       "    </tr>\n",
       "    <tr>\n",
       "      <th>12820.00</th>\n",
       "      <td>4</td>\n",
       "      <td>59</td>\n",
       "      <td>942.34</td>\n",
       "    </tr>\n",
       "    <tr>\n",
       "      <th>...</th>\n",
       "      <td>...</td>\n",
       "      <td>...</td>\n",
       "      <td>...</td>\n",
       "    </tr>\n",
       "    <tr>\n",
       "      <th>18280.00</th>\n",
       "      <td>278</td>\n",
       "      <td>10</td>\n",
       "      <td>180.60</td>\n",
       "    </tr>\n",
       "    <tr>\n",
       "      <th>18281.00</th>\n",
       "      <td>181</td>\n",
       "      <td>7</td>\n",
       "      <td>80.82</td>\n",
       "    </tr>\n",
       "    <tr>\n",
       "      <th>18282.00</th>\n",
       "      <td>8</td>\n",
       "      <td>12</td>\n",
       "      <td>178.05</td>\n",
       "    </tr>\n",
       "    <tr>\n",
       "      <th>18283.00</th>\n",
       "      <td>4</td>\n",
       "      <td>756</td>\n",
       "      <td>2094.88</td>\n",
       "    </tr>\n",
       "    <tr>\n",
       "      <th>18287.00</th>\n",
       "      <td>43</td>\n",
       "      <td>70</td>\n",
       "      <td>1837.28</td>\n",
       "    </tr>\n",
       "  </tbody>\n",
       "</table>\n",
       "<p>3921 rows × 3 columns</p>\n",
       "</div>"
      ],
      "text/plain": [
       "             InvoiceDate  Invoice  TotalPrice\n",
       "Customer ID                                  \n",
       "12346.00             326        1    77183.60\n",
       "12747.00               3      103     4196.01\n",
       "12748.00               1     4596    33719.73\n",
       "12749.00               4      199     4090.88\n",
       "12820.00               4       59      942.34\n",
       "...                  ...      ...         ...\n",
       "18280.00             278       10      180.60\n",
       "18281.00             181        7       80.82\n",
       "18282.00               8       12      178.05\n",
       "18283.00               4      756     2094.88\n",
       "18287.00              43       70     1837.28\n",
       "\n",
       "[3921 rows x 3 columns]"
      ]
     },
     "execution_count": 19,
     "metadata": {},
     "output_type": "execute_result"
    }
   ],
   "source": [
    "rfm = df.groupby(\"Customer ID\").agg({\"InvoiceDate\": lambda date: (today_date - date.max()).days,\n",
    "                                     \"Invoice\": lambda num: len(num), #nunique() can be used but than ranking should be defined\n",
    "                                     \"TotalPrice\": lambda TotalPrice: TotalPrice.sum()})\n",
    "rfm"
   ]
  },
  {
   "cell_type": "code",
   "execution_count": 20,
   "metadata": {
    "execution": {
     "iopub.execute_input": "2021-01-31T16:02:59.666148Z",
     "iopub.status.busy": "2021-01-31T16:02:59.665165Z",
     "iopub.status.idle": "2021-01-31T16:02:59.668655Z",
     "shell.execute_reply": "2021-01-31T16:02:59.668010Z"
    },
    "papermill": {
     "duration": 0.044481,
     "end_time": "2021-01-31T16:02:59.668768",
     "exception": false,
     "start_time": "2021-01-31T16:02:59.624287",
     "status": "completed"
    },
    "tags": []
   },
   "outputs": [],
   "source": [
    "# Now, we know every customer's spending, last shopping date and how often s/he shops"
   ]
  },
  {
   "cell_type": "code",
   "execution_count": 21,
   "metadata": {
    "execution": {
     "iopub.execute_input": "2021-01-31T16:02:59.748246Z",
     "iopub.status.busy": "2021-01-31T16:02:59.747208Z",
     "iopub.status.idle": "2021-01-31T16:02:59.750950Z",
     "shell.execute_reply": "2021-01-31T16:02:59.750174Z"
    },
    "papermill": {
     "duration": 0.045583,
     "end_time": "2021-01-31T16:02:59.751062",
     "exception": false,
     "start_time": "2021-01-31T16:02:59.705479",
     "status": "completed"
    },
    "tags": []
   },
   "outputs": [],
   "source": [
    "rfm.columns = [\"Recency\", \"Frequency\", \"Monetary\"]"
   ]
  },
  {
   "cell_type": "code",
   "execution_count": 22,
   "metadata": {
    "execution": {
     "iopub.execute_input": "2021-01-31T16:02:59.833548Z",
     "iopub.status.busy": "2021-01-31T16:02:59.832856Z",
     "iopub.status.idle": "2021-01-31T16:02:59.837344Z",
     "shell.execute_reply": "2021-01-31T16:02:59.836801Z"
    },
    "papermill": {
     "duration": 0.049555,
     "end_time": "2021-01-31T16:02:59.837467",
     "exception": false,
     "start_time": "2021-01-31T16:02:59.787912",
     "status": "completed"
    },
    "tags": []
   },
   "outputs": [],
   "source": [
    "# We take the monetary and frequency values greater than zero\n",
    "rfm = rfm[(rfm[\"Monetary\"] > 0) & (rfm[\"Frequency\"] > 0)]"
   ]
  },
  {
   "cell_type": "markdown",
   "metadata": {
    "papermill": {
     "duration": 0.036927,
     "end_time": "2021-01-31T16:02:59.911812",
     "exception": false,
     "start_time": "2021-01-31T16:02:59.874885",
     "status": "completed"
    },
    "tags": []
   },
   "source": [
    "CALCULATING RFM SCORES"
   ]
  },
  {
   "cell_type": "code",
   "execution_count": 23,
   "metadata": {
    "execution": {
     "iopub.execute_input": "2021-01-31T16:02:59.993355Z",
     "iopub.status.busy": "2021-01-31T16:02:59.992257Z",
     "iopub.status.idle": "2021-01-31T16:03:00.000001Z",
     "shell.execute_reply": "2021-01-31T16:02:59.999299Z"
    },
    "papermill": {
     "duration": 0.050944,
     "end_time": "2021-01-31T16:03:00.000122",
     "exception": false,
     "start_time": "2021-01-31T16:02:59.949178",
     "status": "completed"
    },
    "tags": []
   },
   "outputs": [],
   "source": [
    "# Recency\n",
    "rfm[\"RecencyScore\"] = pd.qcut(rfm[\"Recency\"], 5, labels=[5,4,3,2,1])\n",
    "# We divide the recency into 5 equal pieces and label them from min to max as 5 to 1"
   ]
  },
  {
   "cell_type": "code",
   "execution_count": 24,
   "metadata": {
    "execution": {
     "iopub.execute_input": "2021-01-31T16:03:00.081069Z",
     "iopub.status.busy": "2021-01-31T16:03:00.080313Z",
     "iopub.status.idle": "2021-01-31T16:03:00.086046Z",
     "shell.execute_reply": "2021-01-31T16:03:00.086564Z"
    },
    "papermill": {
     "duration": 0.049278,
     "end_time": "2021-01-31T16:03:00.086719",
     "exception": false,
     "start_time": "2021-01-31T16:03:00.037441",
     "status": "completed"
    },
    "tags": []
   },
   "outputs": [],
   "source": [
    "# Frequency\n",
    "rfm[\"FrequencyScore\"] = pd.qcut(rfm[\"Frequency\"], 5, labels=[1,2,3,4,5])\n",
    "# We divide the recency into 5 equal pieces and label them from min to max as 1 to 5 this time"
   ]
  },
  {
   "cell_type": "code",
   "execution_count": 25,
   "metadata": {
    "execution": {
     "iopub.execute_input": "2021-01-31T16:03:00.167702Z",
     "iopub.status.busy": "2021-01-31T16:03:00.167036Z",
     "iopub.status.idle": "2021-01-31T16:03:00.173957Z",
     "shell.execute_reply": "2021-01-31T16:03:00.173267Z"
    },
    "papermill": {
     "duration": 0.049982,
     "end_time": "2021-01-31T16:03:00.174075",
     "exception": false,
     "start_time": "2021-01-31T16:03:00.124093",
     "status": "completed"
    },
    "tags": []
   },
   "outputs": [],
   "source": [
    "# Monetary\n",
    "rfm[\"MonetaryScore\"] = pd.qcut(rfm[\"Monetary\"], 5, labels=[1,2,3,4,5])"
   ]
  },
  {
   "cell_type": "code",
   "execution_count": 26,
   "metadata": {
    "execution": {
     "iopub.execute_input": "2021-01-31T16:03:00.265541Z",
     "iopub.status.busy": "2021-01-31T16:03:00.259988Z",
     "iopub.status.idle": "2021-01-31T16:03:00.276864Z",
     "shell.execute_reply": "2021-01-31T16:03:00.276281Z"
    },
    "papermill": {
     "duration": 0.064985,
     "end_time": "2021-01-31T16:03:00.276979",
     "exception": false,
     "start_time": "2021-01-31T16:03:00.211994",
     "status": "completed"
    },
    "tags": []
   },
   "outputs": [],
   "source": [
    "# RFM_SCORE\n",
    "rfm[\"RFM_SCORE\"] = (rfm[\"RecencyScore\"].astype(str)+\n",
    "                    rfm[\"FrequencyScore\"].astype(str)+\n",
    "                    rfm[\"MonetaryScore\"].astype(str))"
   ]
  },
  {
   "cell_type": "code",
   "execution_count": 27,
   "metadata": {
    "execution": {
     "iopub.execute_input": "2021-01-31T16:03:00.373144Z",
     "iopub.status.busy": "2021-01-31T16:03:00.364360Z",
     "iopub.status.idle": "2021-01-31T16:03:00.385214Z",
     "shell.execute_reply": "2021-01-31T16:03:00.384631Z"
    },
    "papermill": {
     "duration": 0.070293,
     "end_time": "2021-01-31T16:03:00.385350",
     "exception": false,
     "start_time": "2021-01-31T16:03:00.315057",
     "status": "completed"
    },
    "tags": []
   },
   "outputs": [
    {
     "data": {
      "text/html": [
       "<div>\n",
       "<style scoped>\n",
       "    .dataframe tbody tr th:only-of-type {\n",
       "        vertical-align: middle;\n",
       "    }\n",
       "\n",
       "    .dataframe tbody tr th {\n",
       "        vertical-align: top;\n",
       "    }\n",
       "\n",
       "    .dataframe thead th {\n",
       "        text-align: right;\n",
       "    }\n",
       "</style>\n",
       "<table border=\"1\" class=\"dataframe\">\n",
       "  <thead>\n",
       "    <tr style=\"text-align: right;\">\n",
       "      <th></th>\n",
       "      <th>Recency</th>\n",
       "      <th>Frequency</th>\n",
       "      <th>Monetary</th>\n",
       "      <th>RecencyScore</th>\n",
       "      <th>FrequencyScore</th>\n",
       "      <th>MonetaryScore</th>\n",
       "      <th>RFM_SCORE</th>\n",
       "    </tr>\n",
       "    <tr>\n",
       "      <th>Customer ID</th>\n",
       "      <th></th>\n",
       "      <th></th>\n",
       "      <th></th>\n",
       "      <th></th>\n",
       "      <th></th>\n",
       "      <th></th>\n",
       "      <th></th>\n",
       "    </tr>\n",
       "  </thead>\n",
       "  <tbody>\n",
       "    <tr>\n",
       "      <th>12821.00</th>\n",
       "      <td>215</td>\n",
       "      <td>6</td>\n",
       "      <td>92.72</td>\n",
       "      <td>1</td>\n",
       "      <td>1</td>\n",
       "      <td>1</td>\n",
       "      <td>111</td>\n",
       "    </tr>\n",
       "    <tr>\n",
       "      <th>12831.00</th>\n",
       "      <td>263</td>\n",
       "      <td>9</td>\n",
       "      <td>215.05</td>\n",
       "      <td>1</td>\n",
       "      <td>1</td>\n",
       "      <td>1</td>\n",
       "      <td>111</td>\n",
       "    </tr>\n",
       "    <tr>\n",
       "      <th>12855.00</th>\n",
       "      <td>373</td>\n",
       "      <td>3</td>\n",
       "      <td>38.10</td>\n",
       "      <td>1</td>\n",
       "      <td>1</td>\n",
       "      <td>1</td>\n",
       "      <td>111</td>\n",
       "    </tr>\n",
       "    <tr>\n",
       "      <th>12897.00</th>\n",
       "      <td>205</td>\n",
       "      <td>4</td>\n",
       "      <td>216.50</td>\n",
       "      <td>1</td>\n",
       "      <td>1</td>\n",
       "      <td>1</td>\n",
       "      <td>111</td>\n",
       "    </tr>\n",
       "    <tr>\n",
       "      <th>12902.00</th>\n",
       "      <td>265</td>\n",
       "      <td>10</td>\n",
       "      <td>138.68</td>\n",
       "      <td>1</td>\n",
       "      <td>1</td>\n",
       "      <td>1</td>\n",
       "      <td>111</td>\n",
       "    </tr>\n",
       "    <tr>\n",
       "      <th>...</th>\n",
       "      <td>...</td>\n",
       "      <td>...</td>\n",
       "      <td>...</td>\n",
       "      <td>...</td>\n",
       "      <td>...</td>\n",
       "      <td>...</td>\n",
       "      <td>...</td>\n",
       "    </tr>\n",
       "    <tr>\n",
       "      <th>18224.00</th>\n",
       "      <td>264</td>\n",
       "      <td>10</td>\n",
       "      <td>158.95</td>\n",
       "      <td>1</td>\n",
       "      <td>1</td>\n",
       "      <td>1</td>\n",
       "      <td>111</td>\n",
       "    </tr>\n",
       "    <tr>\n",
       "      <th>18227.00</th>\n",
       "      <td>218</td>\n",
       "      <td>5</td>\n",
       "      <td>93.75</td>\n",
       "      <td>1</td>\n",
       "      <td>1</td>\n",
       "      <td>1</td>\n",
       "      <td>111</td>\n",
       "    </tr>\n",
       "    <tr>\n",
       "      <th>18269.00</th>\n",
       "      <td>367</td>\n",
       "      <td>7</td>\n",
       "      <td>168.60</td>\n",
       "      <td>1</td>\n",
       "      <td>1</td>\n",
       "      <td>1</td>\n",
       "      <td>111</td>\n",
       "    </tr>\n",
       "    <tr>\n",
       "      <th>18280.00</th>\n",
       "      <td>278</td>\n",
       "      <td>10</td>\n",
       "      <td>180.60</td>\n",
       "      <td>1</td>\n",
       "      <td>1</td>\n",
       "      <td>1</td>\n",
       "      <td>111</td>\n",
       "    </tr>\n",
       "    <tr>\n",
       "      <th>18281.00</th>\n",
       "      <td>181</td>\n",
       "      <td>7</td>\n",
       "      <td>80.82</td>\n",
       "      <td>1</td>\n",
       "      <td>1</td>\n",
       "      <td>1</td>\n",
       "      <td>111</td>\n",
       "    </tr>\n",
       "  </tbody>\n",
       "</table>\n",
       "<p>233 rows × 7 columns</p>\n",
       "</div>"
      ],
      "text/plain": [
       "             Recency  Frequency  Monetary RecencyScore FrequencyScore  \\\n",
       "Customer ID                                                             \n",
       "12821.00         215          6     92.72            1              1   \n",
       "12831.00         263          9    215.05            1              1   \n",
       "12855.00         373          3     38.10            1              1   \n",
       "12897.00         205          4    216.50            1              1   \n",
       "12902.00         265         10    138.68            1              1   \n",
       "...              ...        ...       ...          ...            ...   \n",
       "18224.00         264         10    158.95            1              1   \n",
       "18227.00         218          5     93.75            1              1   \n",
       "18269.00         367          7    168.60            1              1   \n",
       "18280.00         278         10    180.60            1              1   \n",
       "18281.00         181          7     80.82            1              1   \n",
       "\n",
       "            MonetaryScore RFM_SCORE  \n",
       "Customer ID                          \n",
       "12821.00                1       111  \n",
       "12831.00                1       111  \n",
       "12855.00                1       111  \n",
       "12897.00                1       111  \n",
       "12902.00                1       111  \n",
       "...                   ...       ...  \n",
       "18224.00                1       111  \n",
       "18227.00                1       111  \n",
       "18269.00                1       111  \n",
       "18280.00                1       111  \n",
       "18281.00                1       111  \n",
       "\n",
       "[233 rows x 7 columns]"
      ]
     },
     "execution_count": 27,
     "metadata": {},
     "output_type": "execute_result"
    }
   ],
   "source": [
    "# To select the sleeping customers for example:\n",
    "rfm[rfm[\"RFM_SCORE\"]==\"111\"]"
   ]
  },
  {
   "cell_type": "markdown",
   "metadata": {
    "papermill": {
     "duration": 0.038002,
     "end_time": "2021-01-31T16:03:00.461932",
     "exception": false,
     "start_time": "2021-01-31T16:03:00.423930",
     "status": "completed"
    },
    "tags": []
   },
   "source": [
    "NAMING & ANALYSING RFM SEGMENTS"
   ]
  },
  {
   "cell_type": "code",
   "execution_count": 28,
   "metadata": {
    "execution": {
     "iopub.execute_input": "2021-01-31T16:03:00.546086Z",
     "iopub.status.busy": "2021-01-31T16:03:00.545052Z",
     "iopub.status.idle": "2021-01-31T16:03:00.548819Z",
     "shell.execute_reply": "2021-01-31T16:03:00.548114Z"
    },
    "papermill": {
     "duration": 0.048307,
     "end_time": "2021-01-31T16:03:00.548943",
     "exception": false,
     "start_time": "2021-01-31T16:03:00.500636",
     "status": "completed"
    },
    "tags": []
   },
   "outputs": [],
   "source": [
    "# Naming RFM Segments\n",
    "\n",
    "seg_map={\n",
    "    r\"[1-2][1-2]\": \"Hibernating\",\n",
    "    r'[1-2][3-4]': \"At_Risk\",\n",
    "    r'[1-2][5]': \"Can't_Loose\",\n",
    "    r\"3[1-2]\": \"About_to_Sleep\",\n",
    "    r\"33\": \"Need_Attention\",\n",
    "    r\"[3-4][4-5]\": \"Loyal_Customers\",\n",
    "    r\"41\": \"Promising\",\n",
    "    r\"51\": \"New_Customers\",\n",
    "    r\"[4-5][2-3]\": 'Potential_Loyalists',\n",
    "    r'5[4-5]': \"Champions\"\n",
    "}\n",
    "# Recency [1-2] - 1 or 2 and Frequency [1-2] - 1 or 2 == Hibernating"
   ]
  },
  {
   "cell_type": "code",
   "execution_count": 29,
   "metadata": {
    "execution": {
     "iopub.execute_input": "2021-01-31T16:03:00.644679Z",
     "iopub.status.busy": "2021-01-31T16:03:00.638488Z",
     "iopub.status.idle": "2021-01-31T16:03:00.651270Z",
     "shell.execute_reply": "2021-01-31T16:03:00.650555Z"
    },
    "papermill": {
     "duration": 0.062021,
     "end_time": "2021-01-31T16:03:00.651397",
     "exception": false,
     "start_time": "2021-01-31T16:03:00.589376",
     "status": "completed"
    },
    "tags": []
   },
   "outputs": [],
   "source": [
    "rfm[\"Segment\"] = rfm[\"RecencyScore\"].astype(str) + rfm[\"FrequencyScore\"].astype(str)"
   ]
  },
  {
   "cell_type": "code",
   "execution_count": 30,
   "metadata": {
    "execution": {
     "iopub.execute_input": "2021-01-31T16:03:00.734521Z",
     "iopub.status.busy": "2021-01-31T16:03:00.733891Z",
     "iopub.status.idle": "2021-01-31T16:03:00.833237Z",
     "shell.execute_reply": "2021-01-31T16:03:00.833761Z"
    },
    "papermill": {
     "duration": 0.141722,
     "end_time": "2021-01-31T16:03:00.833925",
     "exception": false,
     "start_time": "2021-01-31T16:03:00.692203",
     "status": "completed"
    },
    "tags": []
   },
   "outputs": [],
   "source": [
    "# We need to assign the seg_map to the new segment variable now\n",
    "\n",
    "rfm[\"Segment\"] = rfm[\"Segment\"].replace(seg_map, regex=True)"
   ]
  },
  {
   "cell_type": "code",
   "execution_count": 31,
   "metadata": {
    "execution": {
     "iopub.execute_input": "2021-01-31T16:03:00.922479Z",
     "iopub.status.busy": "2021-01-31T16:03:00.921768Z",
     "iopub.status.idle": "2021-01-31T16:03:00.948171Z",
     "shell.execute_reply": "2021-01-31T16:03:00.947353Z"
    },
    "papermill": {
     "duration": 0.074944,
     "end_time": "2021-01-31T16:03:00.948286",
     "exception": false,
     "start_time": "2021-01-31T16:03:00.873342",
     "status": "completed"
    },
    "tags": []
   },
   "outputs": [
    {
     "data": {
      "text/html": [
       "<div>\n",
       "<style scoped>\n",
       "    .dataframe tbody tr th:only-of-type {\n",
       "        vertical-align: middle;\n",
       "    }\n",
       "\n",
       "    .dataframe tbody tr th {\n",
       "        vertical-align: top;\n",
       "    }\n",
       "\n",
       "    .dataframe thead tr th {\n",
       "        text-align: left;\n",
       "    }\n",
       "\n",
       "    .dataframe thead tr:last-of-type th {\n",
       "        text-align: right;\n",
       "    }\n",
       "</style>\n",
       "<table border=\"1\" class=\"dataframe\">\n",
       "  <thead>\n",
       "    <tr>\n",
       "      <th></th>\n",
       "      <th colspan=\"2\" halign=\"left\">Recency</th>\n",
       "      <th colspan=\"2\" halign=\"left\">Frequency</th>\n",
       "      <th colspan=\"2\" halign=\"left\">Monetary</th>\n",
       "    </tr>\n",
       "    <tr>\n",
       "      <th></th>\n",
       "      <th>mean</th>\n",
       "      <th>count</th>\n",
       "      <th>mean</th>\n",
       "      <th>count</th>\n",
       "      <th>mean</th>\n",
       "      <th>count</th>\n",
       "    </tr>\n",
       "    <tr>\n",
       "      <th>Segment</th>\n",
       "      <th></th>\n",
       "      <th></th>\n",
       "      <th></th>\n",
       "      <th></th>\n",
       "      <th></th>\n",
       "      <th></th>\n",
       "    </tr>\n",
       "  </thead>\n",
       "  <tbody>\n",
       "    <tr>\n",
       "      <th>About_to_Sleep</th>\n",
       "      <td>53.19</td>\n",
       "      <td>298</td>\n",
       "      <td>15.75</td>\n",
       "      <td>298</td>\n",
       "      <td>444.53</td>\n",
       "      <td>298</td>\n",
       "    </tr>\n",
       "    <tr>\n",
       "      <th>At_Risk</th>\n",
       "      <td>168.04</td>\n",
       "      <td>500</td>\n",
       "      <td>57.53</td>\n",
       "      <td>500</td>\n",
       "      <td>907.29</td>\n",
       "      <td>500</td>\n",
       "    </tr>\n",
       "    <tr>\n",
       "      <th>Can't_Loose</th>\n",
       "      <td>145.01</td>\n",
       "      <td>74</td>\n",
       "      <td>184.45</td>\n",
       "      <td>74</td>\n",
       "      <td>2258.58</td>\n",
       "      <td>74</td>\n",
       "    </tr>\n",
       "    <tr>\n",
       "      <th>Champions</th>\n",
       "      <td>6.45</td>\n",
       "      <td>555</td>\n",
       "      <td>282.99</td>\n",
       "      <td>555</td>\n",
       "      <td>6196.96</td>\n",
       "      <td>555</td>\n",
       "    </tr>\n",
       "    <tr>\n",
       "      <th>Hibernating</th>\n",
       "      <td>208.29</td>\n",
       "      <td>981</td>\n",
       "      <td>13.42</td>\n",
       "      <td>981</td>\n",
       "      <td>541.36</td>\n",
       "      <td>981</td>\n",
       "    </tr>\n",
       "    <tr>\n",
       "      <th>Loyal_Customers</th>\n",
       "      <td>34.47</td>\n",
       "      <td>722</td>\n",
       "      <td>155.65</td>\n",
       "      <td>722</td>\n",
       "      <td>2465.22</td>\n",
       "      <td>722</td>\n",
       "    </tr>\n",
       "    <tr>\n",
       "      <th>Need_Attention</th>\n",
       "      <td>52.47</td>\n",
       "      <td>188</td>\n",
       "      <td>41.82</td>\n",
       "      <td>188</td>\n",
       "      <td>858.87</td>\n",
       "      <td>188</td>\n",
       "    </tr>\n",
       "    <tr>\n",
       "      <th>New_Customers</th>\n",
       "      <td>7.22</td>\n",
       "      <td>49</td>\n",
       "      <td>7.04</td>\n",
       "      <td>49</td>\n",
       "      <td>4037.56</td>\n",
       "      <td>49</td>\n",
       "    </tr>\n",
       "    <tr>\n",
       "      <th>Potential_Loyalists</th>\n",
       "      <td>16.82</td>\n",
       "      <td>457</td>\n",
       "      <td>34.45</td>\n",
       "      <td>457</td>\n",
       "      <td>879.81</td>\n",
       "      <td>457</td>\n",
       "    </tr>\n",
       "    <tr>\n",
       "      <th>Promising</th>\n",
       "      <td>23.38</td>\n",
       "      <td>96</td>\n",
       "      <td>7.18</td>\n",
       "      <td>96</td>\n",
       "      <td>453.02</td>\n",
       "      <td>96</td>\n",
       "    </tr>\n",
       "  </tbody>\n",
       "</table>\n",
       "</div>"
      ],
      "text/plain": [
       "                    Recency       Frequency       Monetary      \n",
       "                       mean count      mean count     mean count\n",
       "Segment                                                         \n",
       "About_to_Sleep        53.19   298     15.75   298   444.53   298\n",
       "At_Risk              168.04   500     57.53   500   907.29   500\n",
       "Can't_Loose          145.01    74    184.45    74  2258.58    74\n",
       "Champions              6.45   555    282.99   555  6196.96   555\n",
       "Hibernating          208.29   981     13.42   981   541.36   981\n",
       "Loyal_Customers       34.47   722    155.65   722  2465.22   722\n",
       "Need_Attention        52.47   188     41.82   188   858.87   188\n",
       "New_Customers          7.22    49      7.04    49  4037.56    49\n",
       "Potential_Loyalists   16.82   457     34.45   457   879.81   457\n",
       "Promising             23.38    96      7.18    96   453.02    96"
      ]
     },
     "execution_count": 31,
     "metadata": {},
     "output_type": "execute_result"
    }
   ],
   "source": [
    "rfm[[\"Segment\", \"Recency\", \"Frequency\", \"Monetary\"]].groupby(\"Segment\").agg([\"mean\", \"count\"])\n",
    "# Now we have: Segments, number of customer in those segments and the metrics of those segments"
   ]
  },
  {
   "cell_type": "code",
   "execution_count": 32,
   "metadata": {
    "execution": {
     "iopub.execute_input": "2021-01-31T16:03:01.035062Z",
     "iopub.status.busy": "2021-01-31T16:03:01.034302Z",
     "iopub.status.idle": "2021-01-31T16:03:01.045870Z",
     "shell.execute_reply": "2021-01-31T16:03:01.046350Z"
    },
    "papermill": {
     "duration": 0.05851,
     "end_time": "2021-01-31T16:03:01.046503",
     "exception": false,
     "start_time": "2021-01-31T16:03:00.987993",
     "status": "completed"
    },
    "tags": []
   },
   "outputs": [
    {
     "data": {
      "text/plain": [
       "Customer ID    3921\n",
       "dtype: int64"
      ]
     },
     "execution_count": 32,
     "metadata": {},
     "output_type": "execute_result"
    }
   ],
   "source": [
    "df[[\"Customer ID\"]].nunique()\n",
    "# we have 3921 customers - total"
   ]
  },
  {
   "cell_type": "code",
   "execution_count": 33,
   "metadata": {
    "execution": {
     "iopub.execute_input": "2021-01-31T16:03:01.130868Z",
     "iopub.status.busy": "2021-01-31T16:03:01.129854Z",
     "iopub.status.idle": "2021-01-31T16:03:01.148510Z",
     "shell.execute_reply": "2021-01-31T16:03:01.147948Z"
    },
    "papermill": {
     "duration": 0.061858,
     "end_time": "2021-01-31T16:03:01.148639",
     "exception": false,
     "start_time": "2021-01-31T16:03:01.086781",
     "status": "completed"
    },
    "tags": []
   },
   "outputs": [
    {
     "data": {
      "text/html": [
       "<div>\n",
       "<style scoped>\n",
       "    .dataframe tbody tr th:only-of-type {\n",
       "        vertical-align: middle;\n",
       "    }\n",
       "\n",
       "    .dataframe tbody tr th {\n",
       "        vertical-align: top;\n",
       "    }\n",
       "\n",
       "    .dataframe thead th {\n",
       "        text-align: right;\n",
       "    }\n",
       "</style>\n",
       "<table border=\"1\" class=\"dataframe\">\n",
       "  <thead>\n",
       "    <tr style=\"text-align: right;\">\n",
       "      <th></th>\n",
       "      <th>Recency</th>\n",
       "      <th>Frequency</th>\n",
       "      <th>Monetary</th>\n",
       "      <th>RecencyScore</th>\n",
       "      <th>FrequencyScore</th>\n",
       "      <th>MonetaryScore</th>\n",
       "      <th>RFM_SCORE</th>\n",
       "      <th>Segment</th>\n",
       "    </tr>\n",
       "    <tr>\n",
       "      <th>Customer ID</th>\n",
       "      <th></th>\n",
       "      <th></th>\n",
       "      <th></th>\n",
       "      <th></th>\n",
       "      <th></th>\n",
       "      <th></th>\n",
       "      <th></th>\n",
       "      <th></th>\n",
       "    </tr>\n",
       "  </thead>\n",
       "  <tbody>\n",
       "    <tr>\n",
       "      <th>12822.00</th>\n",
       "      <td>71</td>\n",
       "      <td>46</td>\n",
       "      <td>948.88</td>\n",
       "      <td>3</td>\n",
       "      <td>3</td>\n",
       "      <td>4</td>\n",
       "      <td>334</td>\n",
       "      <td>Need_Attention</td>\n",
       "    </tr>\n",
       "    <tr>\n",
       "      <th>12830.00</th>\n",
       "      <td>38</td>\n",
       "      <td>38</td>\n",
       "      <td>6814.64</td>\n",
       "      <td>3</td>\n",
       "      <td>3</td>\n",
       "      <td>5</td>\n",
       "      <td>335</td>\n",
       "      <td>Need_Attention</td>\n",
       "    </tr>\n",
       "    <tr>\n",
       "      <th>12842.00</th>\n",
       "      <td>71</td>\n",
       "      <td>34</td>\n",
       "      <td>1118.99</td>\n",
       "      <td>3</td>\n",
       "      <td>3</td>\n",
       "      <td>4</td>\n",
       "      <td>334</td>\n",
       "      <td>Need_Attention</td>\n",
       "    </tr>\n",
       "    <tr>\n",
       "      <th>12939.00</th>\n",
       "      <td>65</td>\n",
       "      <td>47</td>\n",
       "      <td>11581.80</td>\n",
       "      <td>3</td>\n",
       "      <td>3</td>\n",
       "      <td>5</td>\n",
       "      <td>335</td>\n",
       "      <td>Need_Attention</td>\n",
       "    </tr>\n",
       "    <tr>\n",
       "      <th>12944.00</th>\n",
       "      <td>36</td>\n",
       "      <td>30</td>\n",
       "      <td>604.51</td>\n",
       "      <td>3</td>\n",
       "      <td>3</td>\n",
       "      <td>3</td>\n",
       "      <td>333</td>\n",
       "      <td>Need_Attention</td>\n",
       "    </tr>\n",
       "  </tbody>\n",
       "</table>\n",
       "</div>"
      ],
      "text/plain": [
       "             Recency  Frequency  Monetary RecencyScore FrequencyScore  \\\n",
       "Customer ID                                                             \n",
       "12822.00          71         46    948.88            3              3   \n",
       "12830.00          38         38   6814.64            3              3   \n",
       "12842.00          71         34   1118.99            3              3   \n",
       "12939.00          65         47  11581.80            3              3   \n",
       "12944.00          36         30    604.51            3              3   \n",
       "\n",
       "            MonetaryScore RFM_SCORE         Segment  \n",
       "Customer ID                                          \n",
       "12822.00                4       334  Need_Attention  \n",
       "12830.00                5       335  Need_Attention  \n",
       "12842.00                4       334  Need_Attention  \n",
       "12939.00                5       335  Need_Attention  \n",
       "12944.00                3       333  Need_Attention  "
      ]
     },
     "execution_count": 33,
     "metadata": {},
     "output_type": "execute_result"
    }
   ],
   "source": [
    "# We have 188 customers out of 3921 total customer who needs attention for example.\n",
    "rfm[rfm[\"Segment\"]==\"Need_Attention\"].head()"
   ]
  },
  {
   "cell_type": "code",
   "execution_count": 34,
   "metadata": {
    "execution": {
     "iopub.execute_input": "2021-01-31T16:03:01.234524Z",
     "iopub.status.busy": "2021-01-31T16:03:01.233874Z",
     "iopub.status.idle": "2021-01-31T16:03:01.237185Z",
     "shell.execute_reply": "2021-01-31T16:03:01.236685Z"
    },
    "papermill": {
     "duration": 0.048216,
     "end_time": "2021-01-31T16:03:01.237300",
     "exception": false,
     "start_time": "2021-01-31T16:03:01.189084",
     "status": "completed"
    },
    "tags": []
   },
   "outputs": [],
   "source": [
    "# We can now report those customers to the related departments"
   ]
  },
  {
   "cell_type": "code",
   "execution_count": 35,
   "metadata": {
    "execution": {
     "iopub.execute_input": "2021-01-31T16:03:01.330874Z",
     "iopub.status.busy": "2021-01-31T16:03:01.329758Z",
     "iopub.status.idle": "2021-01-31T16:03:01.333911Z",
     "shell.execute_reply": "2021-01-31T16:03:01.334422Z"
    },
    "papermill": {
     "duration": 0.056003,
     "end_time": "2021-01-31T16:03:01.334586",
     "exception": false,
     "start_time": "2021-01-31T16:03:01.278583",
     "status": "completed"
    },
    "tags": []
   },
   "outputs": [
    {
     "data": {
      "text/plain": [
       "Float64Index([12822.0, 12830.0, 12842.0, 12939.0, 12944.0, 13023.0, 13034.0,\n",
       "              13107.0, 13109.0, 13165.0,\n",
       "              ...\n",
       "              18088.0, 18104.0, 18126.0, 18136.0, 18160.0, 18170.0, 18171.0,\n",
       "              18192.0, 18205.0, 18228.0],\n",
       "             dtype='float64', name='Customer ID', length=188)"
      ]
     },
     "execution_count": 35,
     "metadata": {},
     "output_type": "execute_result"
    }
   ],
   "source": [
    "rfm[rfm[\"Segment\"]==\"Need_Attention\"].index\n",
    "# we can get the customer ids by doing indexing"
   ]
  },
  {
   "cell_type": "code",
   "execution_count": 36,
   "metadata": {
    "execution": {
     "iopub.execute_input": "2021-01-31T16:03:01.423369Z",
     "iopub.status.busy": "2021-01-31T16:03:01.422580Z",
     "iopub.status.idle": "2021-01-31T16:03:01.426124Z",
     "shell.execute_reply": "2021-01-31T16:03:01.426637Z"
    },
    "papermill": {
     "duration": 0.050614,
     "end_time": "2021-01-31T16:03:01.426796",
     "exception": false,
     "start_time": "2021-01-31T16:03:01.376182",
     "status": "completed"
    },
    "tags": []
   },
   "outputs": [],
   "source": [
    "# Reporting results to an excel file\n",
    "new_df = pd.DataFrame()"
   ]
  },
  {
   "cell_type": "code",
   "execution_count": 37,
   "metadata": {
    "execution": {
     "iopub.execute_input": "2021-01-31T16:03:01.521482Z",
     "iopub.status.busy": "2021-01-31T16:03:01.520454Z",
     "iopub.status.idle": "2021-01-31T16:03:01.523347Z",
     "shell.execute_reply": "2021-01-31T16:03:01.523858Z"
    },
    "papermill": {
     "duration": 0.054235,
     "end_time": "2021-01-31T16:03:01.524010",
     "exception": false,
     "start_time": "2021-01-31T16:03:01.469775",
     "status": "completed"
    },
    "tags": []
   },
   "outputs": [],
   "source": [
    "new_df[\"Loyal_Customers\"] = rfm[rfm[\"Segment\"]==\"Loyal_Customers\"].index"
   ]
  },
  {
   "cell_type": "code",
   "execution_count": 38,
   "metadata": {
    "execution": {
     "iopub.execute_input": "2021-01-31T16:03:01.613666Z",
     "iopub.status.busy": "2021-01-31T16:03:01.612957Z",
     "iopub.status.idle": "2021-01-31T16:03:01.714257Z",
     "shell.execute_reply": "2021-01-31T16:03:01.712858Z"
    },
    "papermill": {
     "duration": 0.148675,
     "end_time": "2021-01-31T16:03:01.714410",
     "exception": false,
     "start_time": "2021-01-31T16:03:01.565735",
     "status": "completed"
    },
    "tags": []
   },
   "outputs": [],
   "source": [
    "new_df.to_excel(\"Loyal_Customers.xlsx\")"
   ]
  },
  {
   "cell_type": "code",
   "execution_count": 39,
   "metadata": {
    "execution": {
     "iopub.execute_input": "2021-01-31T16:03:01.815627Z",
     "iopub.status.busy": "2021-01-31T16:03:01.814498Z",
     "iopub.status.idle": "2021-01-31T16:03:01.820455Z",
     "shell.execute_reply": "2021-01-31T16:03:01.819740Z"
    },
    "papermill": {
     "duration": 0.063607,
     "end_time": "2021-01-31T16:03:01.820579",
     "exception": false,
     "start_time": "2021-01-31T16:03:01.756972",
     "status": "completed"
    },
    "tags": []
   },
   "outputs": [
    {
     "data": {
      "text/html": [
       "<div>\n",
       "<style scoped>\n",
       "    .dataframe tbody tr th:only-of-type {\n",
       "        vertical-align: middle;\n",
       "    }\n",
       "\n",
       "    .dataframe tbody tr th {\n",
       "        vertical-align: top;\n",
       "    }\n",
       "\n",
       "    .dataframe thead th {\n",
       "        text-align: right;\n",
       "    }\n",
       "</style>\n",
       "<table border=\"1\" class=\"dataframe\">\n",
       "  <thead>\n",
       "    <tr style=\"text-align: right;\">\n",
       "      <th></th>\n",
       "      <th>Recency</th>\n",
       "      <th>Frequency</th>\n",
       "      <th>Monetary</th>\n",
       "      <th>RecencyScore</th>\n",
       "      <th>FrequencyScore</th>\n",
       "      <th>MonetaryScore</th>\n",
       "      <th>RFM_SCORE</th>\n",
       "      <th>Segment</th>\n",
       "    </tr>\n",
       "    <tr>\n",
       "      <th>Customer ID</th>\n",
       "      <th></th>\n",
       "      <th></th>\n",
       "      <th></th>\n",
       "      <th></th>\n",
       "      <th></th>\n",
       "      <th></th>\n",
       "      <th></th>\n",
       "      <th></th>\n",
       "    </tr>\n",
       "  </thead>\n",
       "  <tbody>\n",
       "    <tr>\n",
       "      <th>12346.00</th>\n",
       "      <td>326</td>\n",
       "      <td>1</td>\n",
       "      <td>77183.60</td>\n",
       "      <td>1</td>\n",
       "      <td>1</td>\n",
       "      <td>5</td>\n",
       "      <td>115</td>\n",
       "      <td>Hibernating</td>\n",
       "    </tr>\n",
       "    <tr>\n",
       "      <th>12747.00</th>\n",
       "      <td>3</td>\n",
       "      <td>103</td>\n",
       "      <td>4196.01</td>\n",
       "      <td>5</td>\n",
       "      <td>4</td>\n",
       "      <td>5</td>\n",
       "      <td>545</td>\n",
       "      <td>Champions</td>\n",
       "    </tr>\n",
       "    <tr>\n",
       "      <th>12748.00</th>\n",
       "      <td>1</td>\n",
       "      <td>4596</td>\n",
       "      <td>33719.73</td>\n",
       "      <td>5</td>\n",
       "      <td>5</td>\n",
       "      <td>5</td>\n",
       "      <td>555</td>\n",
       "      <td>Champions</td>\n",
       "    </tr>\n",
       "    <tr>\n",
       "      <th>12749.00</th>\n",
       "      <td>4</td>\n",
       "      <td>199</td>\n",
       "      <td>4090.88</td>\n",
       "      <td>5</td>\n",
       "      <td>5</td>\n",
       "      <td>5</td>\n",
       "      <td>555</td>\n",
       "      <td>Champions</td>\n",
       "    </tr>\n",
       "    <tr>\n",
       "      <th>12820.00</th>\n",
       "      <td>4</td>\n",
       "      <td>59</td>\n",
       "      <td>942.34</td>\n",
       "      <td>5</td>\n",
       "      <td>4</td>\n",
       "      <td>4</td>\n",
       "      <td>544</td>\n",
       "      <td>Champions</td>\n",
       "    </tr>\n",
       "  </tbody>\n",
       "</table>\n",
       "</div>"
      ],
      "text/plain": [
       "             Recency  Frequency  Monetary RecencyScore FrequencyScore  \\\n",
       "Customer ID                                                             \n",
       "12346.00         326          1  77183.60            1              1   \n",
       "12747.00           3        103   4196.01            5              4   \n",
       "12748.00           1       4596  33719.73            5              5   \n",
       "12749.00           4        199   4090.88            5              5   \n",
       "12820.00           4         59    942.34            5              4   \n",
       "\n",
       "            MonetaryScore RFM_SCORE      Segment  \n",
       "Customer ID                                       \n",
       "12346.00                5       115  Hibernating  \n",
       "12747.00                5       545    Champions  \n",
       "12748.00                5       555    Champions  \n",
       "12749.00                5       555    Champions  \n",
       "12820.00                4       544    Champions  "
      ]
     },
     "execution_count": 39,
     "metadata": {},
     "output_type": "execute_result"
    }
   ],
   "source": [
    "rfm.head()"
   ]
  },
  {
   "cell_type": "code",
   "execution_count": 40,
   "metadata": {
    "execution": {
     "iopub.execute_input": "2021-01-31T16:03:01.916242Z",
     "iopub.status.busy": "2021-01-31T16:03:01.915478Z",
     "iopub.status.idle": "2021-01-31T16:03:01.938111Z",
     "shell.execute_reply": "2021-01-31T16:03:01.938604Z"
    },
    "papermill": {
     "duration": 0.075027,
     "end_time": "2021-01-31T16:03:01.938777",
     "exception": false,
     "start_time": "2021-01-31T16:03:01.863750",
     "status": "completed"
    },
    "tags": []
   },
   "outputs": [
    {
     "data": {
      "text/html": [
       "<div>\n",
       "<style scoped>\n",
       "    .dataframe tbody tr th:only-of-type {\n",
       "        vertical-align: middle;\n",
       "    }\n",
       "\n",
       "    .dataframe tbody tr th {\n",
       "        vertical-align: top;\n",
       "    }\n",
       "\n",
       "    .dataframe thead tr th {\n",
       "        text-align: left;\n",
       "    }\n",
       "\n",
       "    .dataframe thead tr:last-of-type th {\n",
       "        text-align: right;\n",
       "    }\n",
       "</style>\n",
       "<table border=\"1\" class=\"dataframe\">\n",
       "  <thead>\n",
       "    <tr>\n",
       "      <th></th>\n",
       "      <th colspan=\"2\" halign=\"left\">Recency</th>\n",
       "      <th colspan=\"2\" halign=\"left\">Frequency</th>\n",
       "      <th colspan=\"2\" halign=\"left\">Monetary</th>\n",
       "    </tr>\n",
       "    <tr>\n",
       "      <th></th>\n",
       "      <th>mean</th>\n",
       "      <th>count</th>\n",
       "      <th>mean</th>\n",
       "      <th>count</th>\n",
       "      <th>mean</th>\n",
       "      <th>count</th>\n",
       "    </tr>\n",
       "    <tr>\n",
       "      <th>Segment</th>\n",
       "      <th></th>\n",
       "      <th></th>\n",
       "      <th></th>\n",
       "      <th></th>\n",
       "      <th></th>\n",
       "      <th></th>\n",
       "    </tr>\n",
       "  </thead>\n",
       "  <tbody>\n",
       "    <tr>\n",
       "      <th>About_to_Sleep</th>\n",
       "      <td>53.19</td>\n",
       "      <td>298</td>\n",
       "      <td>15.75</td>\n",
       "      <td>298</td>\n",
       "      <td>444.53</td>\n",
       "      <td>298</td>\n",
       "    </tr>\n",
       "    <tr>\n",
       "      <th>At_Risk</th>\n",
       "      <td>168.04</td>\n",
       "      <td>500</td>\n",
       "      <td>57.53</td>\n",
       "      <td>500</td>\n",
       "      <td>907.29</td>\n",
       "      <td>500</td>\n",
       "    </tr>\n",
       "    <tr>\n",
       "      <th>Can't_Loose</th>\n",
       "      <td>145.01</td>\n",
       "      <td>74</td>\n",
       "      <td>184.45</td>\n",
       "      <td>74</td>\n",
       "      <td>2258.58</td>\n",
       "      <td>74</td>\n",
       "    </tr>\n",
       "    <tr>\n",
       "      <th>Champions</th>\n",
       "      <td>6.45</td>\n",
       "      <td>555</td>\n",
       "      <td>282.99</td>\n",
       "      <td>555</td>\n",
       "      <td>6196.96</td>\n",
       "      <td>555</td>\n",
       "    </tr>\n",
       "    <tr>\n",
       "      <th>Hibernating</th>\n",
       "      <td>208.29</td>\n",
       "      <td>981</td>\n",
       "      <td>13.42</td>\n",
       "      <td>981</td>\n",
       "      <td>541.36</td>\n",
       "      <td>981</td>\n",
       "    </tr>\n",
       "    <tr>\n",
       "      <th>Loyal_Customers</th>\n",
       "      <td>34.47</td>\n",
       "      <td>722</td>\n",
       "      <td>155.65</td>\n",
       "      <td>722</td>\n",
       "      <td>2465.22</td>\n",
       "      <td>722</td>\n",
       "    </tr>\n",
       "    <tr>\n",
       "      <th>Need_Attention</th>\n",
       "      <td>52.47</td>\n",
       "      <td>188</td>\n",
       "      <td>41.82</td>\n",
       "      <td>188</td>\n",
       "      <td>858.87</td>\n",
       "      <td>188</td>\n",
       "    </tr>\n",
       "    <tr>\n",
       "      <th>New_Customers</th>\n",
       "      <td>7.22</td>\n",
       "      <td>49</td>\n",
       "      <td>7.04</td>\n",
       "      <td>49</td>\n",
       "      <td>4037.56</td>\n",
       "      <td>49</td>\n",
       "    </tr>\n",
       "    <tr>\n",
       "      <th>Potential_Loyalists</th>\n",
       "      <td>16.82</td>\n",
       "      <td>457</td>\n",
       "      <td>34.45</td>\n",
       "      <td>457</td>\n",
       "      <td>879.81</td>\n",
       "      <td>457</td>\n",
       "    </tr>\n",
       "    <tr>\n",
       "      <th>Promising</th>\n",
       "      <td>23.38</td>\n",
       "      <td>96</td>\n",
       "      <td>7.18</td>\n",
       "      <td>96</td>\n",
       "      <td>453.02</td>\n",
       "      <td>96</td>\n",
       "    </tr>\n",
       "  </tbody>\n",
       "</table>\n",
       "</div>"
      ],
      "text/plain": [
       "                    Recency       Frequency       Monetary      \n",
       "                       mean count      mean count     mean count\n",
       "Segment                                                         \n",
       "About_to_Sleep        53.19   298     15.75   298   444.53   298\n",
       "At_Risk              168.04   500     57.53   500   907.29   500\n",
       "Can't_Loose          145.01    74    184.45    74  2258.58    74\n",
       "Champions              6.45   555    282.99   555  6196.96   555\n",
       "Hibernating          208.29   981     13.42   981   541.36   981\n",
       "Loyal_Customers       34.47   722    155.65   722  2465.22   722\n",
       "Need_Attention        52.47   188     41.82   188   858.87   188\n",
       "New_Customers          7.22    49      7.04    49  4037.56    49\n",
       "Potential_Loyalists   16.82   457     34.45   457   879.81   457\n",
       "Promising             23.38    96      7.18    96   453.02    96"
      ]
     },
     "execution_count": 40,
     "metadata": {},
     "output_type": "execute_result"
    }
   ],
   "source": [
    "rfm[[\"Segment\", \"Recency\", \"Frequency\", \"Monetary\"]].groupby(\"Segment\").agg([\"mean\", \"count\"])"
   ]
  },
  {
   "cell_type": "markdown",
   "metadata": {
    "papermill": {
     "duration": 0.043056,
     "end_time": "2021-01-31T16:03:02.025157",
     "exception": false,
     "start_time": "2021-01-31T16:03:01.982101",
     "status": "completed"
    },
    "tags": []
   },
   "source": [
    "Now that we have summarised the snapshot of shopping behaviour of the customers for UK, the related departments can have business plans regarding marketing and sales actions."
   ]
  }
 ],
 "metadata": {
  "kernelspec": {
   "display_name": "Python 3",
   "language": "python",
   "name": "python3"
  },
  "language_info": {
   "codemirror_mode": {
    "name": "ipython",
    "version": 3
   },
   "file_extension": ".py",
   "mimetype": "text/x-python",
   "name": "python",
   "nbconvert_exporter": "python",
   "pygments_lexer": "ipython3",
   "version": "3.7.6"
  },
  "papermill": {
   "duration": 167.224475,
   "end_time": "2021-01-31T16:03:02.177111",
   "environment_variables": {},
   "exception": null,
   "input_path": "__notebook__.ipynb",
   "output_path": "__notebook__.ipynb",
   "parameters": {},
   "start_time": "2021-01-31T16:00:14.952636",
   "version": "2.1.0"
  }
 },
 "nbformat": 4,
 "nbformat_minor": 4
}
